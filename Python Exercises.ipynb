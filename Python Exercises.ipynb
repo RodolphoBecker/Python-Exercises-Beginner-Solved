{
 "cells": [
  {
   "cell_type": "markdown",
   "metadata": {},
   "source": [
    "# Python Exercises"
   ]
  },
  {
   "cell_type": "markdown",
   "metadata": {},
   "source": [
    "# 1 - Write a Python program to print the following string in a specific format (see the output). Go to the editor\n",
    "Sample String : \"Twinkle, twinkle, little star, How I wonder what you are! Up above the world so high, Like a diamond in the sky. Twinkle, twinkle, little star, How I wonder what you are\""
   ]
  },
  {
   "cell_type": "code",
   "execution_count": 6,
   "metadata": {},
   "outputs": [
    {
     "name": "stdout",
     "output_type": "stream",
     "text": [
      "Twinkle, twinkle, little star,\n",
      "        How I wonder what you are!\n",
      "                Up above the world so high,\n",
      "                Like a diamond in the sky.\n",
      "Twinkle, twinkle, little star,\n",
      "        How I wonder what you are\n"
     ]
    }
   ],
   "source": [
    "print(\"\"\"Twinkle, twinkle, little star,\n",
    "        How I wonder what you are!\n",
    "                Up above the world so high,\n",
    "                Like a diamond in the sky.\n",
    "Twinkle, twinkle, little star,\n",
    "        How I wonder what you are\"\"\")"
   ]
  },
  {
   "cell_type": "markdown",
   "metadata": {},
   "source": [
    "# 2. Write a Python program to get the Python version you are using"
   ]
  },
  {
   "cell_type": "code",
   "execution_count": 16,
   "metadata": {},
   "outputs": [
    {
     "data": {
      "text/plain": [
       "'Pythons version is 3.8.5 (default, Sep  3 2020, 21:29:08) [MSC v.1916 64 bit (AMD64)]'"
      ]
     },
     "execution_count": 16,
     "metadata": {},
     "output_type": "execute_result"
    }
   ],
   "source": [
    "import sys\n",
    "\n",
    "version = sys.version\n",
    "\n",
    "f\"Pythons version is {version}\""
   ]
  },
  {
   "cell_type": "markdown",
   "metadata": {},
   "source": [
    "# 3. Write a Python program to display the current date and time.\n",
    "Sample Output :\n",
    "Current date and time :\n",
    "2014-07-05 14:34:14"
   ]
  },
  {
   "cell_type": "code",
   "execution_count": 19,
   "metadata": {},
   "outputs": [
    {
     "name": "stdout",
     "output_type": "stream",
     "text": [
      "Current date and time : \n",
      "2021-02-13 09:47:05\n"
     ]
    }
   ],
   "source": [
    "import datetime\n",
    "\n",
    "currentData = datetime.datetime.now()\n",
    "\n",
    "print (\"Current date and time : \")\n",
    "print (currentData.strftime(\"%Y-%m-%d %H:%M:%S\"))"
   ]
  },
  {
   "cell_type": "markdown",
   "metadata": {},
   "source": [
    "# 4. Write a Python program which accepts the radius of a circle from the user and compute the area.\n",
    "Sample Output :\n",
    "r = 1.1\n",
    "Area = 3.8013271108436504"
   ]
  },
  {
   "cell_type": "code",
   "execution_count": 23,
   "metadata": {},
   "outputs": [
    {
     "name": "stdout",
     "output_type": "stream",
     "text": [
      "Enter the circle radius:\n",
      "2\n"
     ]
    },
    {
     "data": {
      "text/plain": [
       "'The area for the radius 2 is 12.56636'"
      ]
     },
     "execution_count": 23,
     "metadata": {},
     "output_type": "execute_result"
    }
   ],
   "source": [
    "print(\"Enter the circle radius:\")\n",
    "\n",
    "radius = int(input())\n",
    "area = (radius * radius) * 3.14159\n",
    "\n",
    "f\"The area for the radius {radius} is {area}\""
   ]
  },
  {
   "cell_type": "markdown",
   "metadata": {},
   "source": [
    "# 5. Write a Python program which accepts the user's first and last name and print them in reverse order with a space between them."
   ]
  },
  {
   "cell_type": "code",
   "execution_count": 24,
   "metadata": {},
   "outputs": [
    {
     "name": "stdout",
     "output_type": "stream",
     "text": [
      "Inform your first name:\n",
      "Rodolpho\n",
      "Inform your last name:\n",
      "Becker\n"
     ]
    },
    {
     "data": {
      "text/plain": [
       "'Rodolpho Becker'"
      ]
     },
     "execution_count": 24,
     "metadata": {},
     "output_type": "execute_result"
    }
   ],
   "source": [
    "print(\"Inform your first name:\")\n",
    "firstName = input()\n",
    "\n",
    "print(\"Inform your last name:\")\n",
    "lastName = input()\n",
    "\n",
    "f\"{firstName} {lastName}\""
   ]
  },
  {
   "cell_type": "markdown",
   "metadata": {},
   "source": [
    "# 6. Write a Python program which accepts a sequence of comma-separated numbers from user and generate a list and a tuple with those numbers.\n",
    "Sample data : 3, 5, 7, 23\n",
    "Output :\n",
    "List : ['3', ' 5', ' 7', ' 23']\n",
    "Tuple : ('3', ' 5', ' 7', ' 23')"
   ]
  },
  {
   "cell_type": "markdown",
   "metadata": {},
   "source": [
    "# 7. Write a Python program to accept a filename from the user and print the extension of that.\n",
    "Sample filename : abc.java\n",
    "Output : java"
   ]
  },
  {
   "cell_type": "code",
   "execution_count": 13,
   "metadata": {},
   "outputs": [
    {
     "name": "stdout",
     "output_type": "stream",
     "text": [
      "Input the Filename with extension: doc.pdf\n"
     ]
    },
    {
     "data": {
      "text/plain": [
       "'The extension of the file is pdf'"
      ]
     },
     "execution_count": 13,
     "metadata": {},
     "output_type": "execute_result"
    }
   ],
   "source": [
    "filename = input(\"Input the Filename with extension: \")\n",
    "extension = filename.split(\".\")\n",
    "\n",
    "f\"The extension of the file is {extension[-1]}\""
   ]
  },
  {
   "cell_type": "markdown",
   "metadata": {},
   "source": [
    "# 8. Write a Python program to display the first and last colors from the following list.\n",
    "color_list = [\"Red\",\"Green\",\"White\" ,\"Black\"]"
   ]
  },
  {
   "cell_type": "code",
   "execution_count": 14,
   "metadata": {},
   "outputs": [
    {
     "data": {
      "text/plain": [
       "'The first color is: Red and the last color is: Black'"
      ]
     },
     "execution_count": 14,
     "metadata": {},
     "output_type": "execute_result"
    }
   ],
   "source": [
    "color_list = [\"Red\",\"Green\",\"White\" ,\"Black\"]\n",
    "\n",
    "f\"The first color is: {color_list[0]} and the last color is: {color_list[-1]}\""
   ]
  },
  {
   "cell_type": "markdown",
   "metadata": {},
   "source": [
    "# 9. Write a Python program to display the examination schedule. (extract the date from exam_st_date).\n",
    "exam_st_date = (11, 12, 2014)\n",
    "Sample Output : The examination will start from : 11 / 12 / 2014"
   ]
  },
  {
   "cell_type": "code",
   "execution_count": 26,
   "metadata": {},
   "outputs": [
    {
     "name": "stdout",
     "output_type": "stream",
     "text": [
      "The examination will start from : 11 / 12 / 2014\n"
     ]
    }
   ],
   "source": [
    "exam_st_date = (11,12,2014)\n",
    "\n",
    "print( \"The examination will start from : %i / %i / %i\"%exam_st_date)"
   ]
  },
  {
   "cell_type": "markdown",
   "metadata": {},
   "source": [
    "# 10. Write a Python program that accepts an integer (n) and computes the value of n+nn+nnn.\n",
    "Sample value of n is 5\n",
    "Expected Result : 615"
   ]
  },
  {
   "cell_type": "code",
   "execution_count": 32,
   "metadata": {},
   "outputs": [
    {
     "name": "stdout",
     "output_type": "stream",
     "text": [
      "Input an integer : 3\n",
      "369\n"
     ]
    }
   ],
   "source": [
    "number = int(input(\"Input an integer : \"))\n",
    "\n",
    "n1 = int( \"%s\" % number )\n",
    "n2 = int( \"%s%s\" % (number,number))\n",
    "n3 = int( \"%s%s%s\" % (number,number,number))\n",
    "\n",
    "print (n1+n2+n3)\n"
   ]
  },
  {
   "cell_type": "markdown",
   "metadata": {},
   "source": [
    "# 11. Write a Python program to calculate number of days between two dates.\n",
    "Sample dates : (2014, 7, 2), (2014, 7, 11)\n",
    "Expected output : 9 days\n",
    "Sample function : abs()\n",
    "Expected Result :\n",
    "abs(number) -> number\n",
    "Return the absolute value of the argument."
   ]
  },
  {
   "cell_type": "code",
   "execution_count": 43,
   "metadata": {},
   "outputs": [
    {
     "data": {
      "text/plain": [
       "'The number of days between the dates is 25'"
      ]
     },
     "execution_count": 43,
     "metadata": {},
     "output_type": "execute_result"
    }
   ],
   "source": [
    "date01 = (2014, 7, 30)\n",
    "date02 = (2014, 7, 5)\n",
    "\n",
    "def difference():\n",
    "    if( date01[-1] > date02[-1] ):\n",
    "        result = date01[-1] - date02[-1]\n",
    "        return f\"The number of days between the dates is {result}\"\n",
    "    else:\n",
    "        result = date02[-1] - date01[-1]\n",
    "        return f\"The number of days between the dates is {result}\"\n",
    "    \n",
    "difference()"
   ]
  },
  {
   "cell_type": "markdown",
   "metadata": {},
   "source": [
    "# 12. Write a Python program to get the volume of a sphere with radius 6."
   ]
  },
  {
   "cell_type": "code",
   "execution_count": 46,
   "metadata": {},
   "outputs": [
    {
     "data": {
      "text/plain": [
       "'The volume of a sphere with radius: 3 is: 113.09724'"
      ]
     },
     "execution_count": 46,
     "metadata": {},
     "output_type": "execute_result"
    }
   ],
   "source": [
    "radius = 3\n",
    "volume = (4/3)*(3.14159*(radius**3))\n",
    "\n",
    "f\"The volume of a sphere with radius: {radius} is: {volume}\""
   ]
  },
  {
   "cell_type": "markdown",
   "metadata": {},
   "source": [
    "# 13. Write a Python program to get the difference between a given number and 17, if the number is greater than 17 return double the absolute difference."
   ]
  },
  {
   "cell_type": "code",
   "execution_count": 49,
   "metadata": {},
   "outputs": [
    {
     "name": "stdout",
     "output_type": "stream",
     "text": [
      "Inform a Number:20\n"
     ]
    },
    {
     "data": {
      "text/plain": [
       "'The informed number: 20 is greater than 17, so the absolut difference between them is: 3'"
      ]
     },
     "execution_count": 49,
     "metadata": {},
     "output_type": "execute_result"
    }
   ],
   "source": [
    "defaultNumber = 17\n",
    "givenNumber = input(\"Inform a Number:\")\n",
    "\n",
    "def numbersDifference():\n",
    "    if( int(givenNumber) > 17 ):\n",
    "        result = abs(defaultNumber - int(givenNumber))\n",
    "        return f\"The informed number: {givenNumber} is greater than 17, so the absolut difference between them is: {result}\"\n",
    "    else:\n",
    "        result = defaultNumber - int(givenNumber)\n",
    "        return f\"The informed number: {givenNumber} is lower than 17, so the difference between them is: {result}\"\n",
    "\n",
    "numbersDifference()"
   ]
  },
  {
   "cell_type": "markdown",
   "metadata": {},
   "source": [
    "# 14. Write a Python program to test whether a number is within 100 of 1000 or 2000"
   ]
  },
  {
   "cell_type": "code",
   "execution_count": 2,
   "metadata": {},
   "outputs": [
    {
     "name": "stdout",
     "output_type": "stream",
     "text": [
      "True\n",
      "False\n"
     ]
    }
   ],
   "source": [
    "def near_thousand(n):\n",
    "      return ((abs(1000 - n) <= 100) or (abs(2000 - n) <= 100))\n",
    "    \n",
    "print(near_thousand(1000))\n",
    "print(near_thousand(800))   \n"
   ]
  },
  {
   "cell_type": "markdown",
   "metadata": {},
   "source": [
    "# 15. Write a Python program to calculate the sum of three given numbers, if the values are equal then return three times of their sum."
   ]
  },
  {
   "cell_type": "code",
   "execution_count": 7,
   "metadata": {},
   "outputs": [
    {
     "name": "stdout",
     "output_type": "stream",
     "text": [
      "Inform the first Number:10\n",
      "Inform the second Number:15\n",
      "Inform the third Number:20\n"
     ]
    },
    {
     "data": {
      "text/plain": [
       "45"
      ]
     },
     "execution_count": 7,
     "metadata": {},
     "output_type": "execute_result"
    }
   ],
   "source": [
    "number01 = input(\"Inform the first Number:\")\n",
    "number02 = input(\"Inform the second Number:\")\n",
    "number03 = input(\"Inform the third Number:\")\n",
    "total = int(number01) + int(number02) + int(number03)\n",
    "\n",
    "def numbers():\n",
    "    if( number01 == number02 == number03 ):\n",
    "        return (total*3)\n",
    "    else:\n",
    "        return(total)\n",
    "numbers()"
   ]
  },
  {
   "cell_type": "markdown",
   "metadata": {},
   "source": [
    "# 16. Write a Python program to get a new string from a given string where \"Is\" has been added to the front. If the given string already begins with \"Is\" then return the string unchanged"
   ]
  },
  {
   "cell_type": "code",
   "execution_count": 16,
   "metadata": {},
   "outputs": [
    {
     "data": {
      "text/plain": [
       "'Istomatoe'"
      ]
     },
     "execution_count": 16,
     "metadata": {},
     "output_type": "execute_result"
    }
   ],
   "source": [
    "initialString = \"Istomatoe\"\n",
    "\n",
    "def stringVerification(): \n",
    "    if len(initialString) >= 2 and initialString[:2] == \"Is\":\n",
    "        return f\"{initialString}\"\n",
    "    else:\n",
    "        return f\"Is{initialString}\"\n",
    "\n",
    "stringVerification()\n"
   ]
  },
  {
   "cell_type": "markdown",
   "metadata": {},
   "source": [
    "# 17. Write a Python program to find whether a given number (accept from the user) is even or odd, print out an appropriate message to the user."
   ]
  },
  {
   "cell_type": "code",
   "execution_count": 8,
   "metadata": {},
   "outputs": [
    {
     "data": {
      "text/plain": [
       "'O numero informado 4 é par.'"
      ]
     },
     "execution_count": 8,
     "metadata": {},
     "output_type": "execute_result"
    }
   ],
   "source": [
    "def oddEven(number):\n",
    "    if( number % 2 == 0 ):\n",
    "        return f\"O numero informado {number} é par.\"\n",
    "    else:\n",
    "        return f\"O numero informado {number} é impar\" \n",
    "\n",
    "oddEven(4)"
   ]
  },
  {
   "cell_type": "markdown",
   "metadata": {},
   "source": [
    "# 18. Write a Python program to count the number 4 in a given list"
   ]
  },
  {
   "cell_type": "code",
   "execution_count": 11,
   "metadata": {},
   "outputs": [
    {
     "data": {
      "text/plain": [
       "'A Lista possui 2 vezes o numero 4'"
      ]
     },
     "execution_count": 11,
     "metadata": {},
     "output_type": "execute_result"
    }
   ],
   "source": [
    "def countNumber(numbersList):\n",
    "    count = 0\n",
    "    for number in numbersList:\n",
    "        if number == 4:\n",
    "            count = count + 1\n",
    "    return f\"A Lista possui {count} vezes o numero 4\"\n",
    "        \n",
    "countNumber([4,6,10,20,30,40,50,6,4])"
   ]
  },
  {
   "cell_type": "markdown",
   "metadata": {},
   "source": [
    "# 19. Write a Python program to test whether a passed letter is a vowel or not"
   ]
  },
  {
   "cell_type": "code",
   "execution_count": 33,
   "metadata": {},
   "outputs": [
    {
     "data": {
      "text/plain": [
       "'The letter informed A is a vowel'"
      ]
     },
     "execution_count": 33,
     "metadata": {},
     "output_type": "execute_result"
    }
   ],
   "source": [
    "vowels = ['A','a','E','e','I','i','O','o','U','u']\n",
    "\n",
    "def vowelsVerification(letter):\n",
    "    if letter in vowels:\n",
    "        return f\"The letter informed {letter} is a vowel\"\n",
    "    else:\n",
    "        return f\"The letter informed {letter} is not a vowel\"\n",
    "        \n",
    "vowelsVerification('A')"
   ]
  },
  {
   "cell_type": "markdown",
   "metadata": {},
   "source": [
    "# 20. Write a Python program to check whether a specified value is contained in a group of values"
   ]
  },
  {
   "cell_type": "code",
   "execution_count": 37,
   "metadata": {},
   "outputs": [
    {
     "data": {
      "text/plain": [
       "'The informed number 0 is not present in the group'"
      ]
     },
     "execution_count": 37,
     "metadata": {},
     "output_type": "execute_result"
    }
   ],
   "source": [
    "group = [1,2,3,4,5]\n",
    "\n",
    "def checkValues(number):\n",
    "    if number in group:\n",
    "        return f\"The informed number {number} is present in the group\"\n",
    "    else:\n",
    "        return f\"The informed number {number} is not present in the group\"\n",
    "checkValues(0)"
   ]
  },
  {
   "cell_type": "markdown",
   "metadata": {},
   "source": [
    "# 21. Write a Python program to create a histogram from a given list of integers"
   ]
  },
  {
   "cell_type": "markdown",
   "metadata": {},
   "source": [
    "# 22. Write a Python program to concatenate all elements in a list into a string and return it"
   ]
  },
  {
   "cell_type": "code",
   "execution_count": 44,
   "metadata": {},
   "outputs": [
    {
     "name": "stdout",
     "output_type": "stream",
     "text": [
      "MagictheGathering\n"
     ]
    }
   ],
   "source": [
    "def listToString(informedString):   \n",
    "    stringFormed = \"\" \n",
    "    \n",
    "    for element in informedString:  \n",
    "        stringFormed += element  \n",
    "        \n",
    "    return stringFormed   \n",
    "\n",
    "informedString = ['Magic', 'the', 'Gathering']\n",
    "\n",
    "print(listToString(informedString)) "
   ]
  },
  {
   "cell_type": "markdown",
   "metadata": {},
   "source": [
    "# 23. Write a Python program to print all even numbers from a given numbers list in the same order and stop the printing if any numbers that come after 237 in the sequence.\n",
    "Sample numbers list :\n",
    "\n",
    "numbers = [386, 462, 47, 418, 907, 344, 236, 375, 823, 566, 597, 978, 328, 615, 953, 345, \n",
    "    399, 162, 758, 219, 918, 237, 412, 566, 826, 248, 866, 950, 626, 949, 687, 217, \n",
    "    815, 67, 104, 58, 512, 24, 892, 894, 767, 553, 81, 379, 843, 831, 445, 742, 717, \n",
    "    958,743, 527\n",
    "    ]"
   ]
  },
  {
   "cell_type": "code",
   "execution_count": 70,
   "metadata": {},
   "outputs": [
    {
     "name": "stdout",
     "output_type": "stream",
     "text": [
      "[47, 219, 237, 217, 67, 81]\n"
     ]
    }
   ],
   "source": [
    "def evenNumber():\n",
    "    numbersList = [386, 462, 47, 418, 907, 344, 236, 375, 823, 566, 597, 978, 328, 615, 953, 345, \n",
    "    399, 162, 758, 219, 918, 237, 412, 566, 826, 248, 866, 950, 626, 949, 687, 217, \n",
    "    815, 67, 104, 58, 512, 24, 892, 894, 767, 553, 81, 379, 843, 831, 445, 742, 717, \n",
    "    958,743, 527\n",
    "    ]\n",
    "    newList = []\n",
    "    \n",
    "    for number in numbersList:\n",
    "        if number % 2 != 0 and number <= 237:\n",
    "            newList += [number]\n",
    "            \n",
    "    print(newList)\n",
    "    \n",
    "evenNumber()"
   ]
  },
  {
   "cell_type": "markdown",
   "metadata": {},
   "source": [
    "# 24. Write a Python program to print out a set containing all the colors from color_list_1 which are not present in color_list_2.\n",
    "Test Data :\n",
    "color_list_1 = set([\"White\", \"Black\", \"Red\"])\n",
    "color_list_2 = set([\"Red\", \"Green\"])\n",
    "Expected Output :\n",
    "{'Black', 'White'}"
   ]
  },
  {
   "cell_type": "code",
   "execution_count": 79,
   "metadata": {},
   "outputs": [
    {
     "name": "stdout",
     "output_type": "stream",
     "text": [
      "{'Black', 'White'}\n"
     ]
    }
   ],
   "source": [
    "color_list_1 = set([\"White\", \"Black\", \"Red\"])\n",
    "color_list_2 = set([\"Red\", \"Green\"])\n",
    "\n",
    "clor_list_updated = color_list_1.difference(color_list_2)\n",
    "\n",
    "print(clor_list_updated)"
   ]
  },
  {
   "cell_type": "markdown",
   "metadata": {},
   "source": [
    "# 25. Write a Python program that will accept the base and height of a triangle and compute the area."
   ]
  },
  {
   "cell_type": "code",
   "execution_count": 80,
   "metadata": {},
   "outputs": [
    {
     "data": {
      "text/plain": [
       "'The area for a triangle with base: 10 and height: 20 is: 2400'"
      ]
     },
     "execution_count": 80,
     "metadata": {},
     "output_type": "execute_result"
    }
   ],
   "source": [
    "def triangle(base, height):\n",
    "    area = 12 * (base * height)\n",
    "    return f\"The area for a triangle with base: {base} and height: {height} is: {area}\"\n",
    "\n",
    "triangle(10,20)"
   ]
  },
  {
   "cell_type": "markdown",
   "metadata": {},
   "source": [
    "# 26. Write a Python program to compute the greatest common divisor (GCD) of two positive integers."
   ]
  },
  {
   "cell_type": "code",
   "execution_count": 85,
   "metadata": {},
   "outputs": [
    {
     "data": {
      "text/plain": [
       "'The greatest common divisor between 10 and 30 is: 10'"
      ]
     },
     "execution_count": 85,
     "metadata": {},
     "output_type": "execute_result"
    }
   ],
   "source": [
    "import math\n",
    "\n",
    "def GCD(integer01, integer02):\n",
    "    if integer01 and integer02 > 0:\n",
    "        result = math.gcd(integer01, integer02)\n",
    "        return f\"The greatest common divisor between {integer01} and {integer02} is: {result}\"\n",
    "    else:\n",
    "        return f\"Please insert a positive integer\"\n",
    "GCD(10,30)"
   ]
  },
  {
   "cell_type": "markdown",
   "metadata": {},
   "source": [
    "# 27. Write a Python program to get the least common multiple (LCM) of two positive integers."
   ]
  },
  {
   "cell_type": "markdown",
   "metadata": {},
   "source": [
    "# 28. Write a Python program to sum of three given integers. However, if two values are equal sum will be zero"
   ]
  },
  {
   "cell_type": "code",
   "execution_count": 114,
   "metadata": {},
   "outputs": [
    {
     "data": {
      "text/plain": [
       "'The sum of the three numbers is: 80'"
      ]
     },
     "execution_count": 114,
     "metadata": {},
     "output_type": "execute_result"
    }
   ],
   "source": [
    "def sumValues(value01, value02, value03):\n",
    "    list01 = [value01, value02, value03]\n",
    "    \n",
    "    if list01.count(value01) == 1 and list01.count(value02) == 1 and list01.count(value03) == 1: \n",
    "        listSum = sum(list01)\n",
    "        return f\"The sum of the three numbers is: {listSum}\"\n",
    "    else:\n",
    "        return f\"É 0\"\n",
    "\n",
    "sumValues(10,20,50)"
   ]
  },
  {
   "cell_type": "markdown",
   "metadata": {},
   "source": [
    "# 29. Write a Python program to sum of two given integers. However, if the sum is between 15 to 20 it will return 20"
   ]
  },
  {
   "cell_type": "code",
   "execution_count": 121,
   "metadata": {},
   "outputs": [
    {
     "data": {
      "text/plain": [
       "'The sum of the two numbers is 21'"
      ]
     },
     "execution_count": 121,
     "metadata": {},
     "output_type": "execute_result"
    }
   ],
   "source": [
    "def sumInteger(num01, num02):\n",
    "    totalSum = num01 + num02\n",
    "    \n",
    "    if totalSum >= 15 and totalSum <= 20:\n",
    "        return f\"Maximum returned 20\"\n",
    "    else:\n",
    "        return f\"The sum of the two numbers is {totalSum}\"\n",
    "\n",
    "sumInteger(5, 16)"
   ]
  },
  {
   "cell_type": "markdown",
   "metadata": {},
   "source": [
    "# 30. Write a Python program that will return true if the two given integer values are equal or their sum or difference is 5"
   ]
  },
  {
   "cell_type": "code",
   "execution_count": 7,
   "metadata": {},
   "outputs": [
    {
     "data": {
      "text/plain": [
       "True"
      ]
     },
     "execution_count": 7,
     "metadata": {},
     "output_type": "execute_result"
    }
   ],
   "source": [
    "def numbers(num01, num02):\n",
    "    if (num01 == num02) or (num01 + num02 == 5):\n",
    "        return True\n",
    "    else:\n",
    "        return False\n",
    "\n",
    "numbers(2, 2)"
   ]
  },
  {
   "cell_type": "markdown",
   "metadata": {},
   "source": [
    "# 31. Write a Python program to add two objects if both objects are an integer type"
   ]
  },
  {
   "cell_type": "code",
   "execution_count": 10,
   "metadata": {},
   "outputs": [
    {
     "data": {
      "text/plain": [
       "'You must input an integer'"
      ]
     },
     "execution_count": 10,
     "metadata": {},
     "output_type": "execute_result"
    }
   ],
   "source": [
    "def numbers(num01, num02):\n",
    "    if (isinstance(num01, int) and isinstance(num02, int)):\n",
    "        return num01 + num02\n",
    "    else:\n",
    "        return f\"You must input an integer\"\n",
    "    \n",
    "numbers(30.5, 40)"
   ]
  },
  {
   "cell_type": "markdown",
   "metadata": {},
   "source": [
    "# 32. Write a Python program to display your details like name, age, address in three different lines."
   ]
  },
  {
   "cell_type": "code",
   "execution_count": 2,
   "metadata": {},
   "outputs": [
    {
     "name": "stdout",
     "output_type": "stream",
     "text": [
      "Name: Rodolpho\n",
      "Age: 34\n",
      "Address: Doutor Victor Sacramento, 290, SP\n"
     ]
    }
   ],
   "source": [
    "def userData(name, age, address):\n",
    "    return print(\"Name: {}\\nAge: {}\\nAddress: {}\".format(name, age, address))\n",
    "\n",
    "userData(\"Rodolpho\", 34, \"Doutor Victor Sacramento, 290, SP\")"
   ]
  },
  {
   "cell_type": "markdown",
   "metadata": {},
   "source": [
    "# 33. Write a Python program to solve (x + y) * (x + y).\n",
    "Test Data : x = 4, y = 3\n",
    "Expected Output : (4 + 3) ^ 2) = 49"
   ]
  },
  {
   "cell_type": "code",
   "execution_count": 4,
   "metadata": {},
   "outputs": [
    {
     "data": {
      "text/plain": [
       "'O resultado da operação é: 49'"
      ]
     },
     "execution_count": 4,
     "metadata": {},
     "output_type": "execute_result"
    }
   ],
   "source": [
    "def valuesOperation(x, y):\n",
    "    formula = (x + y)**2\n",
    "    \n",
    "    return f\"O resultado da operação é: {formula}\"\n",
    "\n",
    "valuesOperation(4,3)"
   ]
  },
  {
   "cell_type": "markdown",
   "metadata": {},
   "source": [
    "# 34. Write a Python program to compute the future value of a specified principal amount, rate of interest, and a number of years.\n",
    "Test Data : amt = 10000, int = 3.5, years = 7\n",
    "Expected Output : 12722.79"
   ]
  },
  {
   "cell_type": "markdown",
   "metadata": {},
   "source": [
    "# 35. Write a Python program to compute the distance between the points (x1, y1) and (x2, y2). "
   ]
  },
  {
   "cell_type": "code",
   "execution_count": 5,
   "metadata": {},
   "outputs": [
    {
     "data": {
      "text/plain": [
       "'The distance between the two points is: 3.605551275463989'"
      ]
     },
     "execution_count": 5,
     "metadata": {},
     "output_type": "execute_result"
    }
   ],
   "source": [
    "import math\n",
    "\n",
    "def distancePoints(x1, y1, x2, y2):\n",
    "    result = math.sqrt((x2-x1)**2 + (y2-y1)**2)\n",
    "    \n",
    "    return f\"The distance between the two points is: {result}\"\n",
    "\n",
    "distancePoints(2,4,5,6)"
   ]
  },
  {
   "cell_type": "markdown",
   "metadata": {},
   "source": [
    "# 36. Write a Python program to check whether a file exists"
   ]
  },
  {
   "cell_type": "code",
   "execution_count": 9,
   "metadata": {},
   "outputs": [
    {
     "name": "stdout",
     "output_type": "stream",
     "text": [
      "True\n"
     ]
    }
   ],
   "source": [
    "import os.path\n",
    "open('abc.txt', 'w')\n",
    "print(os.path.isfile('abc.txt'))\n"
   ]
  },
  {
   "cell_type": "markdown",
   "metadata": {},
   "source": [
    "# 37. Write a Python program to determine if a Python shell is executing in 32bit or 64bit mode on OS"
   ]
  },
  {
   "cell_type": "code",
   "execution_count": 2,
   "metadata": {},
   "outputs": [
    {
     "name": "stdout",
     "output_type": "stream",
     "text": [
      "64\n"
     ]
    }
   ],
   "source": [
    "import struct\n",
    "\n",
    "print(struct.calcsize(\"P\")* 8)"
   ]
  },
  {
   "cell_type": "markdown",
   "metadata": {},
   "source": [
    "# 38. Write a Python program to get OS name, platform and release information"
   ]
  },
  {
   "cell_type": "code",
   "execution_count": 17,
   "metadata": {},
   "outputs": [
    {
     "name": "stdout",
     "output_type": "stream",
     "text": [
      "nt\n",
      "AMD64\n",
      "Desktop-Rodolpho\n",
      "Windows\n",
      "10.0.19041\n"
     ]
    }
   ],
   "source": [
    "import platform\n",
    "import os\n",
    "\n",
    "print(os.name)\n",
    "print(platform.machine())\n",
    "print(platform.node())\n",
    "print(platform.system())\n",
    "print(platform.version())\n",
    "\n",
    "    "
   ]
  },
  {
   "cell_type": "markdown",
   "metadata": {},
   "source": [
    "# 39. Write a Python program to locate Python site-packages."
   ]
  },
  {
   "cell_type": "code",
   "execution_count": 18,
   "metadata": {},
   "outputs": [
    {
     "name": "stdout",
     "output_type": "stream",
     "text": [
      "['C:\\\\Users\\\\becke\\\\anaconda3', 'C:\\\\Users\\\\becke\\\\anaconda3\\\\lib\\\\site-packages']\n"
     ]
    }
   ],
   "source": [
    "import site \n",
    "\n",
    "print(site.getsitepackages())"
   ]
  },
  {
   "cell_type": "markdown",
   "metadata": {},
   "source": [
    "# 40. Write a python program to call an external command in Python."
   ]
  },
  {
   "cell_type": "code",
   "execution_count": 28,
   "metadata": {},
   "outputs": [
    {
     "name": "stdout",
     "output_type": "stream",
     "text": [
      "Response: 1\n"
     ]
    }
   ],
   "source": [
    "import subprocess\n",
    "\n",
    "return_code = subprocess.call(['ping','http://www.uol.com.br'])\n",
    "\n",
    "print(f\"Response: {return_code}\")"
   ]
  },
  {
   "cell_type": "markdown",
   "metadata": {},
   "source": [
    "# 41. Write a python program to get the path and name of the file that is currently executing."
   ]
  },
  {
   "cell_type": "code",
   "execution_count": 34,
   "metadata": {},
   "outputs": [
    {
     "name": "stdout",
     "output_type": "stream",
     "text": [
      "Current File Name :  C:\\Users\\becke\\Python\\Exercises\\Python-Exercises-Beginner-Solved\n"
     ]
    }
   ],
   "source": [
    "import os\n",
    "\n",
    "print(\"Current File Name : \",os.path.realpath(''))"
   ]
  },
  {
   "cell_type": "markdown",
   "metadata": {},
   "source": [
    "# 42. Write a Python program to find out the number of CPUs using"
   ]
  },
  {
   "cell_type": "code",
   "execution_count": 36,
   "metadata": {},
   "outputs": [
    {
     "name": "stdout",
     "output_type": "stream",
     "text": [
      "The number of cpus that are currently in use is: 8\n"
     ]
    }
   ],
   "source": [
    "import os\n",
    "\n",
    "print(f\"The number of cpus that are currently in use is: {os.cpu_count()}\")"
   ]
  },
  {
   "cell_type": "markdown",
   "metadata": {},
   "source": [
    "# 43. Write a Python program to parse a string to Float or Integer."
   ]
  },
  {
   "cell_type": "code",
   "execution_count": 54,
   "metadata": {},
   "outputs": [
    {
     "name": "stdout",
     "output_type": "stream",
     "text": [
      "Conversion to float: 3453435.0 \n",
      "Conversion to int: 3453435\n"
     ]
    }
   ],
   "source": [
    "stringName = \"3453435\"\n",
    "\n",
    "print(f\"Conversion to float: {float(stringName)} \\nConversion to int: {int(float(stringName))}\")"
   ]
  },
  {
   "cell_type": "markdown",
   "metadata": {},
   "source": [
    "# 44. Write a Python program to list all files in a directory in Python"
   ]
  },
  {
   "cell_type": "code",
   "execution_count": 59,
   "metadata": {},
   "outputs": [
    {
     "name": "stdout",
     "output_type": "stream",
     "text": [
      "C:\\Users\\becke\\Python\\Exercises\\Python-Exercises-Beginner-Solved\n",
      ".git\n",
      ".gitattributes\n",
      ".ipynb_checkpoints\n",
      "abc.txt\n",
      "Python Exercises.ipynb\n",
      "README.md\n"
     ]
    }
   ],
   "source": [
    "import os\n",
    "\n",
    "print(os.getcwd())\n",
    "files = os.listdir()\n",
    "\n",
    "for file in files:\n",
    "    print(file)"
   ]
  },
  {
   "cell_type": "code",
   "execution_count": null,
   "metadata": {},
   "outputs": [],
   "source": []
  }
 ],
 "metadata": {
  "kernelspec": {
   "display_name": "Python 3",
   "language": "python",
   "name": "python3"
  },
  "language_info": {
   "codemirror_mode": {
    "name": "ipython",
    "version": 3
   },
   "file_extension": ".py",
   "mimetype": "text/x-python",
   "name": "python",
   "nbconvert_exporter": "python",
   "pygments_lexer": "ipython3",
   "version": "3.8.5"
  }
 },
 "nbformat": 4,
 "nbformat_minor": 4
}
